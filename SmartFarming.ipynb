{
  "nbformat": 4,
  "nbformat_minor": 0,
  "metadata": {
    "colab": {
      "name": "SmartFarming",
      "provenance": [],
      "collapsed_sections": [],
      "include_colab_link": true
    },
    "kernelspec": {
      "display_name": "Python 3",
      "name": "python3"
    }
  },
  "cells": [
    {
      "cell_type": "markdown",
      "metadata": {
        "id": "view-in-github",
        "colab_type": "text"
      },
      "source": [
        "<a href=\"https://colab.research.google.com/github/safin777/SmartFarming/blob/main/SmartFarming.ipynb\" target=\"_parent\"><img src=\"https://colab.research.google.com/assets/colab-badge.svg\" alt=\"Open In Colab\"/></a>"
      ]
    },
    {
      "cell_type": "code",
      "metadata": {
        "colab": {
          "base_uri": "https://localhost:8080/"
        },
        "id": "JZmU5TYY1z6s",
        "outputId": "cc2982e2-21ec-4691-c20f-9fc7e6c28039"
      },
      "source": [
        "# Download a file based on its file ID.\n",
        "file_id = '1H7vkuA_leohKTlp2bIS61oL9XOGoAk_4'\n",
        "\n",
        "# Download dataset\n",
        "!gdown https://drive.google.com/uc?id={file_id}\n",
        "\n",
        "# Unzip the downloaded file\n",
        "!unzip -q tomato.zip"
      ],
      "execution_count": 2,
      "outputs": [
        {
          "output_type": "stream",
          "text": [
            "Downloading...\n",
            "From: https://drive.google.com/uc?id=1H7vkuA_leohKTlp2bIS61oL9XOGoAk_4\n",
            "To: /content/tomato.zip\n",
            "192MB [00:00, 222MB/s]\n",
            "replace tomato/cnn_train.py? [y]es, [n]o, [A]ll, [N]one, [r]ename: None\n"
          ],
          "name": "stdout"
        }
      ]
    },
    {
      "cell_type": "code",
      "metadata": {
        "id": "nDeK9Fp1EPzR"
      },
      "source": [
        "import numpy as np\n",
        "import pickle\n",
        "import cv2\n",
        "import os\n",
        "import matplotlib.pyplot as plt\n",
        "from os import listdir\n",
        "from sklearn.preprocessing import LabelBinarizer\n",
        "from keras.models import Sequential\n",
        "from keras.layers.normalization import BatchNormalization\n",
        "from keras.layers.convolutional import Conv2D\n",
        "from keras.layers.convolutional import MaxPooling2D\n",
        "from keras.layers.core import Activation, Flatten, Dropout, Dense\n",
        "from keras import backend as K\n",
        "from keras.preprocessing.image import ImageDataGenerator\n",
        "from keras.optimizers import Adam\n",
        "from keras.preprocessing import image\n",
        "from keras.preprocessing.image import img_to_array\n",
        "from sklearn.preprocessing import MultiLabelBinarizer\n",
        "from sklearn.model_selection import train_test_split"
      ],
      "execution_count": 3,
      "outputs": []
    },
    {
      "cell_type": "markdown",
      "metadata": {
        "id": "optyadXvEJ1M"
      },
      "source": [
        "Importing the libraries"
      ]
    },
    {
      "cell_type": "markdown",
      "metadata": {
        "id": "88N0aobBHunK"
      },
      "source": [
        "# Load Dataset"
      ]
    },
    {
      "cell_type": "markdown",
      "metadata": {
        "id": "NZTfMsnLH1sM"
      },
      "source": [
        "Initializing a few parameters required for the image dataset preprocessing"
      ]
    },
    {
      "cell_type": "code",
      "metadata": {
        "id": "_P-_yzCMH5FK"
      },
      "source": [
        "# Dimension of resized image\n",
        "DEFAULT_IMAGE_SIZE = tuple((256, 256))\n",
        "\n",
        "# Number of images used to train the model\n",
        "N_IMAGES = 100\n",
        "\n",
        "# Path to the dataset folder\n",
        "root_dir = './tomato'\n",
        "\n",
        "train_dir = os.path.join(root_dir, 'train')\n",
        "val_dir = os.path.join(root_dir, 'val')"
      ],
      "execution_count": 5,
      "outputs": []
    },
    {
      "cell_type": "markdown",
      "metadata": {
        "id": "DBRWwojQKPS0"
      },
      "source": [
        "We use the function convert_image_to_array to resize an image to the size DEFAULT_IMAGE_SIZE we defined above."
      ]
    },
    {
      "cell_type": "code",
      "metadata": {
        "id": "KAnE8pEHUVno"
      },
      "source": [
        "def convert_image_to_array(image_dir):\n",
        "    try:\n",
        "        image = cv2.imread(image_dir)\n",
        "        if image is not None:\n",
        "            image = cv2.resize(image, DEFAULT_IMAGE_SIZE)   \n",
        "            return img_to_array(image)\n",
        "        else:\n",
        "            return np.array([])\n",
        "    except Exception as e:\n",
        "        print(f\"Error : {e}\")\n",
        "        return None\n"
      ],
      "execution_count": 6,
      "outputs": []
    },
    {
      "cell_type": "markdown",
      "metadata": {
        "id": "LIQ09v5oYeex"
      },
      "source": [
        "Here, we load the training data images by traversing through all the folders and converting all the images and labels into separate lists respectively.\n",
        "\n",
        "NOTE: We use a small portion of the entire dataset due to the computing limitations. Tweak N_IMAGES to include entire dataset."
      ]
    },
    {
      "cell_type": "code",
      "metadata": {
        "colab": {
          "base_uri": "https://localhost:8080/"
        },
        "id": "rfEwZ13SYtU2",
        "outputId": "3ab53cb1-8ab4-40df-878e-a3eed232519c"
      },
      "source": [
        "image_list, label_list =[], []\n",
        "\n",
        "try: \n",
        "  print(\"[INFO] Loading image......\")\n",
        "  plant_disease_folder_list = listdir(train_dir)\n",
        "\n",
        "  for plant_disease_folder in plant_disease_folder_list:\n",
        "    print(f\"[INFO] Processing {plant_disease_folder}......\")\n",
        "    plant_disease_image_list = listdir(f\"{train_dir}/{plant_disease_folder}/\")\n",
        "\n",
        "    for image in plant_disease_image_list[:N_IMAGES]:\n",
        "      image_directory = f\"{train_dir}/{plant_disease_folder}/{image}\"\n",
        "      if image_directory.endswith(\".jpg\")==True or image_directory.endswith(\".JPG\")==True:\n",
        "                image_list.append(convert_image_to_array(image_directory))\n",
        "                label_list.append(plant_disease_folder)\n",
        "\n",
        "    print(\"[INFO] Image loading completed\")  \n",
        "except Exception as e:\n",
        "    print(f\"Error : {e}\")\n",
        "\n",
        "# Transform the loaded training image data into numpy array\n",
        "np_image_list = np.array(image_list, dtype=np.float16) / 225.0\n",
        "print()\n",
        "\n",
        "# Check the number of images loaded for training\n",
        "image_len = len(image_list)\n",
        "print(f\"Total number of images: {image_len}\")\n"
      ],
      "execution_count": 7,
      "outputs": [
        {
          "output_type": "stream",
          "text": [
            "[INFO] Loading image......\n",
            "[INFO] Processing Tomato___Late_blight......\n",
            "[INFO] Image loading completed\n",
            "[INFO] Processing Tomato___Leaf_Mold......\n",
            "[INFO] Image loading completed\n",
            "[INFO] Processing Tomato___Tomato_mosaic_virus......\n",
            "[INFO] Image loading completed\n",
            "[INFO] Processing Tomato___Septoria_leaf_spot......\n",
            "[INFO] Image loading completed\n",
            "[INFO] Processing Tomato___Target_Spot......\n",
            "[INFO] Image loading completed\n",
            "[INFO] Processing Tomato___Spider_mites Two-spotted_spider_mite......\n",
            "[INFO] Image loading completed\n",
            "[INFO] Processing Tomato___healthy......\n",
            "[INFO] Image loading completed\n",
            "[INFO] Processing Tomato___Bacterial_spot......\n",
            "[INFO] Image loading completed\n",
            "[INFO] Processing Tomato___Early_blight......\n",
            "[INFO] Image loading completed\n",
            "[INFO] Processing Tomato___Tomato_Yellow_Leaf_Curl_Virus......\n",
            "[INFO] Image loading completed\n",
            "\n",
            "Total number of images: 1000\n"
          ],
          "name": "stdout"
        }
      ]
    },
    {
      "cell_type": "markdown",
      "metadata": {
        "id": "I0UXk3C-lB9u"
      },
      "source": [
        "Examine the labels/classes in the training dataset."
      ]
    },
    {
      "cell_type": "code",
      "metadata": {
        "colab": {
          "base_uri": "https://localhost:8080/"
        },
        "id": "RSMdx6X2lGNu",
        "outputId": "c5902584-2066-4976-9d5e-a1b610f7fe10"
      },
      "source": [
        "label_binarizer = LabelBinarizer()\n",
        "image_labels = label_binarizer.fit_transform(label_list)\n",
        "\n",
        "pickle.dump(label_binarizer,open('plant_disease_label_transform.pkl', 'wb'))\n",
        "n_classes = len(label_binarizer.classes_)\n",
        "\n",
        "print(\"Total number of classes: \", n_classes)"
      ],
      "execution_count": 9,
      "outputs": [
        {
          "output_type": "stream",
          "text": [
            "Total number of classes:  10\n"
          ],
          "name": "stdout"
        }
      ]
    },
    {
      "cell_type": "markdown",
      "metadata": {
        "id": "km-YZCW1lOG1"
      },
      "source": [
        "#Augment and Split Dataset"
      ]
    },
    {
      "cell_type": "markdown",
      "metadata": {
        "id": "VeCctSIklUOM"
      },
      "source": [
        "Using ImageDataGenerator to augment data by performing various operations on the training images."
      ]
    },
    {
      "cell_type": "code",
      "metadata": {
        "id": "kkZWxu4_le2m"
      },
      "source": [
        "augment = ImageDataGenerator(rotation_range=25, width_shift_range=0.1,\n",
        "                             height_shift_range=0.1, shear_range=0.2, \n",
        "                             zoom_range=0.2, horizontal_flip=True, \n",
        "                             fill_mode=\"nearest\")"
      ],
      "execution_count": 10,
      "outputs": []
    },
    {
      "cell_type": "markdown",
      "metadata": {
        "id": "kg3jU-KjnKCH"
      },
      "source": [
        "Splitting the data into training and test sets for validation purpose."
      ]
    },
    {
      "cell_type": "code",
      "metadata": {
        "colab": {
          "base_uri": "https://localhost:8080/"
        },
        "id": "ySYZcMvXnP73",
        "outputId": "f26bf0e8-5e99-4028-bc89-95a540ede212"
      },
      "source": [
        "print(\"[INFO] Splitting data to train and test...\")\n",
        "x_train, x_test, y_train, y_test = train_test_split(np_image_list, image_labels, test_size=0.2, random_state = 42) "
      ],
      "execution_count": 11,
      "outputs": [
        {
          "output_type": "stream",
          "text": [
            "[INFO] Splitting data to train and test...\n"
          ],
          "name": "stdout"
        }
      ]
    },
    {
      "cell_type": "markdown",
      "metadata": {
        "id": "y8KZoJMToYKu"
      },
      "source": [
        "# Build Model"
      ]
    },
    {
      "cell_type": "markdown",
      "metadata": {
        "id": "3dElm6rdpGBH"
      },
      "source": [
        "Defining the hyperparameters of the plant disease classification model."
      ]
    },
    {
      "cell_type": "code",
      "metadata": {
        "id": "3y-2V2_toX4e"
      },
      "source": [
        "EPOCHS = 25\n",
        "STEPS = 100\n",
        "LR = 1e-3\n",
        "BATCH_SIZE = 32\n",
        "WIDTH = 256\n",
        "HEIGHT = 256\n",
        "DEPTH = 3"
      ],
      "execution_count": 12,
      "outputs": []
    },
    {
      "cell_type": "markdown",
      "metadata": {
        "id": "tF0nOhybqkSA"
      },
      "source": [
        "Creating a sequential model and adding Convolutional, Normalization, Pooling, Dropout and Activation layers at the appropriate positions."
      ]
    },
    {
      "cell_type": "code",
      "metadata": {
        "colab": {
          "base_uri": "https://localhost:8080/"
        },
        "id": "k1H6PAGXqkwg",
        "outputId": "a7f2fcf6-4e07-4859-fe11-fac119ae3832"
      },
      "source": [
        "model = Sequential()\n",
        "inputShape = (HEIGHT, WIDTH, DEPTH)\n",
        "chanDim = -1\n",
        "\n",
        "if K.image_data_format() == \"channels_first\":\n",
        "    inputShape = (DEPTH, HEIGHT, WIDTH)\n",
        "    chanDim = 1\n",
        "\n",
        "model.add(Conv2D(32, (3,3), padding=\"same\",input_shape=inputShape))\n",
        "model.add(Activation(\"relu\"))\n",
        "model.add(BatchNormalization(axis=chanDim))\n",
        "model.add(MaxPooling2D(pool_size=(2,2)))\n",
        "model.add(Dropout(0.25))\n",
        "model.add(Conv2D(64, (3,3), padding=\"same\"))\n",
        "model.add(Activation(\"relu\"))\n",
        "model.add(BatchNormalization(axis=chanDim))\n",
        "model.add(Conv2D(64, (3,3), padding=\"same\"))\n",
        "model.add(Activation(\"relu\"))\n",
        "model.add(BatchNormalization(axis=chanDim))\n",
        "model.add(MaxPooling2D(pool_size=(2, 2)))\n",
        "model.add(Dropout(0.25))\n",
        "model.add(Conv2D(128, (3,3), padding=\"same\"))\n",
        "model.add(Activation(\"relu\"))\n",
        "model.add(BatchNormalization(axis=chanDim))\n",
        "model.add(Conv2D(128, (3,3), padding=\"same\"))\n",
        "model.add(Activation(\"relu\"))\n",
        "model.add(BatchNormalization(axis=chanDim))\n",
        "model.add(MaxPooling2D(pool_size=(2, 2)))\n",
        "model.add(Dropout(0.25))\n",
        "model.add(Flatten())\n",
        "model.add(Dense(1024))\n",
        "model.add(Activation(\"relu\"))\n",
        "model.add(BatchNormalization())\n",
        "model.add(Dropout(0.5))\n",
        "model.add(Dense(n_classes))\n",
        "model.add(Activation(\"softmax\"))\n",
        "\n",
        "model.summary()"
      ],
      "execution_count": 14,
      "outputs": [
        {
          "output_type": "stream",
          "text": [
            "Model: \"sequential_1\"\n",
            "_________________________________________________________________\n",
            "Layer (type)                 Output Shape              Param #   \n",
            "=================================================================\n",
            "conv2d_5 (Conv2D)            (None, 256, 256, 32)      896       \n",
            "_________________________________________________________________\n",
            "activation_7 (Activation)    (None, 256, 256, 32)      0         \n",
            "_________________________________________________________________\n",
            "batch_normalization_6 (Batch (None, 256, 256, 32)      128       \n",
            "_________________________________________________________________\n",
            "max_pooling2d_3 (MaxPooling2 (None, 128, 128, 32)      0         \n",
            "_________________________________________________________________\n",
            "dropout_4 (Dropout)          (None, 128, 128, 32)      0         \n",
            "_________________________________________________________________\n",
            "conv2d_6 (Conv2D)            (None, 128, 128, 64)      18496     \n",
            "_________________________________________________________________\n",
            "activation_8 (Activation)    (None, 128, 128, 64)      0         \n",
            "_________________________________________________________________\n",
            "batch_normalization_7 (Batch (None, 128, 128, 64)      256       \n",
            "_________________________________________________________________\n",
            "conv2d_7 (Conv2D)            (None, 128, 128, 64)      36928     \n",
            "_________________________________________________________________\n",
            "activation_9 (Activation)    (None, 128, 128, 64)      0         \n",
            "_________________________________________________________________\n",
            "batch_normalization_8 (Batch (None, 128, 128, 64)      256       \n",
            "_________________________________________________________________\n",
            "max_pooling2d_4 (MaxPooling2 (None, 64, 64, 64)        0         \n",
            "_________________________________________________________________\n",
            "dropout_5 (Dropout)          (None, 64, 64, 64)        0         \n",
            "_________________________________________________________________\n",
            "conv2d_8 (Conv2D)            (None, 64, 64, 128)       73856     \n",
            "_________________________________________________________________\n",
            "activation_10 (Activation)   (None, 64, 64, 128)       0         \n",
            "_________________________________________________________________\n",
            "batch_normalization_9 (Batch (None, 64, 64, 128)       512       \n",
            "_________________________________________________________________\n",
            "conv2d_9 (Conv2D)            (None, 64, 64, 128)       147584    \n",
            "_________________________________________________________________\n",
            "activation_11 (Activation)   (None, 64, 64, 128)       0         \n",
            "_________________________________________________________________\n",
            "batch_normalization_10 (Batc (None, 64, 64, 128)       512       \n",
            "_________________________________________________________________\n",
            "max_pooling2d_5 (MaxPooling2 (None, 32, 32, 128)       0         \n",
            "_________________________________________________________________\n",
            "dropout_6 (Dropout)          (None, 32, 32, 128)       0         \n",
            "_________________________________________________________________\n",
            "flatten_1 (Flatten)          (None, 131072)            0         \n",
            "_________________________________________________________________\n",
            "dense_2 (Dense)              (None, 1024)              134218752 \n",
            "_________________________________________________________________\n",
            "activation_12 (Activation)   (None, 1024)              0         \n",
            "_________________________________________________________________\n",
            "batch_normalization_11 (Batc (None, 1024)              4096      \n",
            "_________________________________________________________________\n",
            "dropout_7 (Dropout)          (None, 1024)              0         \n",
            "_________________________________________________________________\n",
            "dense_3 (Dense)              (None, 10)                10250     \n",
            "_________________________________________________________________\n",
            "activation_13 (Activation)   (None, 10)                0         \n",
            "=================================================================\n",
            "Total params: 134,512,522\n",
            "Trainable params: 134,509,642\n",
            "Non-trainable params: 2,880\n",
            "_________________________________________________________________\n"
          ],
          "name": "stdout"
        }
      ]
    },
    {
      "cell_type": "markdown",
      "metadata": {
        "id": "ASH_putsupPy"
      },
      "source": [
        "# Train Model\n"
      ]
    },
    {
      "cell_type": "markdown",
      "metadata": {
        "id": "B6pJZ19ouslK"
      },
      "source": [
        "We initialize Adam optimizer with learning rate and decay parameters.\n",
        "\n",
        "Also, we choose the type of loss and metrics for the model and compile it for training"
      ]
    },
    {
      "cell_type": "code",
      "metadata": {
        "colab": {
          "base_uri": "https://localhost:8080/"
        },
        "id": "GzUVsIQBu0kx",
        "outputId": "6f8e51a2-a8af-4e0a-cc46-59410ca46837"
      },
      "source": [
        "# Initialize optimizer\n",
        "opt = Adam(lr=LR, decay=LR / EPOCHS)\n",
        "\n",
        "# Compile model\n",
        "model.compile(loss=\"binary_crossentropy\", optimizer=opt, metrics=[\"accuracy\"])\n",
        "\n",
        "# Train model\n",
        "print(\"[INFO] Training network...\")\n",
        "history = model.fit(augment.flow(x_train, y_train, batch_size=BATCH_SIZE),\n",
        "                              validation_data=(x_test, y_test),\n",
        "                              steps_per_epoch=len(x_train) // BATCH_SIZE,\n",
        "                              epochs=EPOCHS, \n",
        "                              verbose=1)"
      ],
      "execution_count": 15,
      "outputs": [
        {
          "output_type": "stream",
          "text": [
            "[INFO] Training network...\n",
            "Epoch 1/25\n",
            "25/25 [==============================] - 314s 13s/step - loss: 0.3241 - accuracy: 0.3862 - val_loss: 2.3070 - val_accuracy: 0.0650\n",
            "Epoch 2/25\n",
            "25/25 [==============================] - 312s 12s/step - loss: 0.2093 - accuracy: 0.5587 - val_loss: 2.8680 - val_accuracy: 0.0650\n",
            "Epoch 3/25\n",
            "25/25 [==============================] - 314s 13s/step - loss: 0.1807 - accuracy: 0.6375 - val_loss: 2.8680 - val_accuracy: 0.0650\n",
            "Epoch 4/25\n",
            "25/25 [==============================] - 311s 12s/step - loss: 0.2128 - accuracy: 0.6125 - val_loss: 2.1187 - val_accuracy: 0.0650\n",
            "Epoch 5/25\n",
            "25/25 [==============================] - 312s 12s/step - loss: 0.1997 - accuracy: 0.6450 - val_loss: 2.0952 - val_accuracy: 0.0650\n",
            "Epoch 6/25\n",
            "25/25 [==============================] - 313s 13s/step - loss: 0.1739 - accuracy: 0.6750 - val_loss: 2.1492 - val_accuracy: 0.0650\n",
            "Epoch 7/25\n",
            "25/25 [==============================] - 312s 12s/step - loss: 0.1633 - accuracy: 0.6875 - val_loss: 1.4046 - val_accuracy: 0.0700\n",
            "Epoch 8/25\n",
            "25/25 [==============================] - 311s 12s/step - loss: 0.1531 - accuracy: 0.6963 - val_loss: 1.7107 - val_accuracy: 0.0700\n",
            "Epoch 9/25\n",
            "25/25 [==============================] - 311s 12s/step - loss: 0.1285 - accuracy: 0.7525 - val_loss: 1.2935 - val_accuracy: 0.1200\n",
            "Epoch 10/25\n",
            "25/25 [==============================] - 311s 12s/step - loss: 0.1243 - accuracy: 0.7500 - val_loss: 1.4298 - val_accuracy: 0.0800\n",
            "Epoch 11/25\n",
            "25/25 [==============================] - 312s 12s/step - loss: 0.1012 - accuracy: 0.7987 - val_loss: 1.2195 - val_accuracy: 0.1600\n",
            "Epoch 12/25\n",
            "25/25 [==============================] - 310s 12s/step - loss: 0.1012 - accuracy: 0.8062 - val_loss: 1.5845 - val_accuracy: 0.0850\n",
            "Epoch 13/25\n",
            "25/25 [==============================] - 312s 12s/step - loss: 0.0893 - accuracy: 0.8288 - val_loss: 1.1896 - val_accuracy: 0.2150\n",
            "Epoch 14/25\n",
            "25/25 [==============================] - 312s 12s/step - loss: 0.0924 - accuracy: 0.8350 - val_loss: 1.2591 - val_accuracy: 0.1900\n",
            "Epoch 15/25\n",
            "25/25 [==============================] - 312s 12s/step - loss: 0.0806 - accuracy: 0.8363 - val_loss: 1.5329 - val_accuracy: 0.1150\n",
            "Epoch 16/25\n",
            "25/25 [==============================] - 310s 12s/step - loss: 0.0958 - accuracy: 0.8075 - val_loss: 1.4713 - val_accuracy: 0.1500\n",
            "Epoch 17/25\n",
            "25/25 [==============================] - 310s 12s/step - loss: 0.0884 - accuracy: 0.8363 - val_loss: 0.5194 - val_accuracy: 0.3250\n",
            "Epoch 18/25\n",
            "25/25 [==============================] - 310s 12s/step - loss: 0.0831 - accuracy: 0.8213 - val_loss: 0.5515 - val_accuracy: 0.4150\n",
            "Epoch 19/25\n",
            "25/25 [==============================] - 310s 12s/step - loss: 0.0689 - accuracy: 0.8625 - val_loss: 0.8664 - val_accuracy: 0.2800\n",
            "Epoch 20/25\n",
            "25/25 [==============================] - 311s 12s/step - loss: 0.0769 - accuracy: 0.8550 - val_loss: 0.4582 - val_accuracy: 0.4450\n",
            "Epoch 21/25\n",
            "25/25 [==============================] - 310s 12s/step - loss: 0.0723 - accuracy: 0.8562 - val_loss: 0.3490 - val_accuracy: 0.5750\n",
            "Epoch 22/25\n",
            "25/25 [==============================] - 311s 12s/step - loss: 0.0767 - accuracy: 0.8575 - val_loss: 0.4472 - val_accuracy: 0.5050\n",
            "Epoch 23/25\n",
            "25/25 [==============================] - 311s 12s/step - loss: 0.0622 - accuracy: 0.8700 - val_loss: 0.2616 - val_accuracy: 0.6550\n",
            "Epoch 24/25\n",
            "25/25 [==============================] - 311s 12s/step - loss: 0.0621 - accuracy: 0.8775 - val_loss: 0.3425 - val_accuracy: 0.5550\n",
            "Epoch 25/25\n",
            "25/25 [==============================] - 310s 12s/step - loss: 0.0525 - accuracy: 0.9062 - val_loss: 0.1236 - val_accuracy: 0.8050\n"
          ],
          "name": "stdout"
        }
      ]
    },
    {
      "cell_type": "markdown",
      "metadata": {
        "id": "9u4H1KYPugvN"
      },
      "source": [
        "#Evaluate Model\n"
      ]
    },
    {
      "cell_type": "markdown",
      "metadata": {
        "id": "FqCRPpAL69IR"
      },
      "source": [
        "Comparing the accuracy and loss by plotting the graph for training and validation."
      ]
    },
    {
      "cell_type": "code",
      "metadata": {
        "colab": {
          "base_uri": "https://localhost:8080/",
          "height": 545
        },
        "id": "nfeLukPEugbl",
        "outputId": "1b636238-8624-454d-a04c-8b2b44999969"
      },
      "source": [
        "acc = history.history['accuracy']\n",
        "val_acc = history.history['val_accuracy']\n",
        "loss = history.history['loss']\n",
        "val_loss = history.history['val_loss']\n",
        "epochs = range(1, len(acc) + 1)\n",
        "\n",
        "# Train and validation accuracy\n",
        "plt.plot(epochs, acc, 'b', label='Training accurarcy')\n",
        "plt.plot(epochs, val_acc, 'r', label='Validation accurarcy')\n",
        "plt.title('Training and Validation accurarcy')\n",
        "plt.legend()\n",
        "\n",
        "plt.figure()\n",
        "\n",
        "# Train and validation loss\n",
        "plt.plot(epochs, loss, 'b', label='Training loss')\n",
        "plt.plot(epochs, val_loss, 'r', label='Validation loss')\n",
        "plt.title('Training and Validation loss')\n",
        "plt.legend()\n",
        "plt.show()"
      ],
      "execution_count": 16,
      "outputs": [
        {
          "output_type": "display_data",
          "data": {
            "image/png": "[encoded data removed]",
            "text/plain": [
              "<Figure size 432x288 with 1 Axes>"
            ]
          },
          "metadata": {
            "tags": [],
            "needs_background": "light"
          }
        },
        {
          "output_type": "display_data",
          "data": {
            "image/png": "[encoded data removed]",
            "text/plain": [
              "<Figure size 432x288 with 1 Axes>"
            ]
          },
          "metadata": {
            "tags": [],
            "needs_background": "light"
          }
        }
      ]
    },
    {
      "cell_type": "markdown",
      "metadata": {
        "id": "qjbOX-917kUh"
      },
      "source": [
        "Evaluating model accuracy by using the evaluate method"
      ]
    },
    {
      "cell_type": "code",
      "metadata": {
        "colab": {
          "base_uri": "https://localhost:8080/"
        },
        "id": "RaEuzFax79eE",
        "outputId": "b8814b13-1707-4bc7-c2eb-cf3251faa0a9"
      },
      "source": [
        "print(\"[INFO] Calculating model accuracy\")\n",
        "scores = model.evaluate(x_test, y_test)\n",
        "print(f\"Test Accuracy: {scores[1]*100}\")"
      ],
      "execution_count": 17,
      "outputs": [
        {
          "output_type": "stream",
          "text": [
            "[INFO] Calculating model accuracy\n",
            "7/7 [==============================] - 14s 2s/step - loss: 0.1236 - accuracy: 0.8050\n",
            "Test Accuracy: 80.50000071525574\n"
          ],
          "name": "stdout"
        }
      ]
    }
  ]
}