{
  "nbformat": 4,
  "nbformat_minor": 0,
  "metadata": {
    "colab": {
      "name": "SmartFarming",
      "provenance": [],
      "collapsed_sections": [],
      "include_colab_link": true
    },
    "kernelspec": {
      "display_name": "Python 3",
      "name": "python3"
    }
  },
  "cells": [
    {
      "cell_type": "markdown",
      "metadata": {
        "id": "view-in-github",
        "colab_type": "text"
      },
      "source": [
        "<a href=\"https://colab.research.google.com/github/safin777/SmartFarming/blob/main/SmartFarming.ipynb\" target=\"_parent\"><img src=\"https://colab.research.google.com/assets/colab-badge.svg\" alt=\"Open In Colab\"/></a>"
      ]
    },
    {
      "cell_type": "code",
      "metadata": {
        "colab": {
          "base_uri": "https://localhost:8080/"
        },
        "id": "JZmU5TYY1z6s",
        "outputId": "685319c7-4b37-446a-e08d-99979afdb15a"
      },
      "source": [
        "# Download a file based on its file ID.\n",
        "file_id = '1H7vkuA_leohKTlp2bIS61oL9XOGoAk_4'\n",
        "\n",
        "# Download dataset\n",
        "!gdown https://drive.google.com/uc?id={file_id}\n",
        "\n",
        "# Unzip the downloaded file\n",
        "!unzip -q tomato.zip"
      ],
      "execution_count": 22,
      "outputs": [
        {
          "output_type": "stream",
          "text": [
            "Downloading...\n",
            "From: https://drive.google.com/uc?id=1H7vkuA_leohKTlp2bIS61oL9XOGoAk_4\n",
            "To: /content/tomato.zip\n",
            "192MB [00:05, 36.4MB/s]\n"
          ],
          "name": "stdout"
        }
      ]
    },
    {
      "cell_type": "code",
      "metadata": {
        "id": "nDeK9Fp1EPzR"
      },
      "source": [
        "import numpy as np\n",
        "import pickle\n",
        "import cv2\n",
        "import os\n",
        "import matplotlib.pyplot as plt\n",
        "from os import listdir\n",
        "from sklearn.preprocessing import LabelBinarizer\n",
        "from keras.models import Sequential\n",
        "from keras.layers.normalization import BatchNormalization\n",
        "from keras.layers.convolutional import Conv2D\n",
        "from keras.layers.convolutional import MaxPooling2D\n",
        "from keras.layers.core import Activation, Flatten, Dropout, Dense\n",
        "from keras import backend as K\n",
        "from keras.preprocessing.image import ImageDataGenerator\n",
        "from keras.optimizers import Adam\n",
        "from keras.preprocessing import image\n",
        "from keras.preprocessing.image import img_to_array\n",
        "from sklearn.preprocessing import MultiLabelBinarizer\n",
        "from sklearn.model_selection import train_test_split"
      ],
      "execution_count": 23,
      "outputs": []
    },
    {
      "cell_type": "markdown",
      "metadata": {
        "id": "optyadXvEJ1M"
      },
      "source": [
        "Importing the libraries"
      ]
    },
    {
      "cell_type": "markdown",
      "metadata": {
        "id": "88N0aobBHunK"
      },
      "source": [
        "# Load Dataset"
      ]
    },
    {
      "cell_type": "markdown",
      "metadata": {
        "id": "NZTfMsnLH1sM"
      },
      "source": [
        "Initializing a few parameters required for the image dataset preprocessing"
      ]
    },
    {
      "cell_type": "code",
      "metadata": {
        "id": "_P-_yzCMH5FK"
      },
      "source": [
        "# Dimension of resized image\n",
        "DEFAULT_IMAGE_SIZE = tuple((256, 256))\n",
        "\n",
        "# Number of images used to train the model\n",
        "N_IMAGES = 50\n",
        "\n",
        "# Path to the dataset folder\n",
        "root_dir = './tomato'\n",
        "\n",
        "train_dir = os.path.join(root_dir, 'train')\n",
        "val_dir = os.path.join(root_dir, 'val')"
      ],
      "execution_count": 24,
      "outputs": []
    },
    {
      "cell_type": "markdown",
      "metadata": {
        "id": "DBRWwojQKPS0"
      },
      "source": [
        "We use the function convert_image_to_array to resize an image to the size DEFAULT_IMAGE_SIZE we defined above."
      ]
    },
    {
      "cell_type": "code",
      "metadata": {
        "id": "KAnE8pEHUVno"
      },
      "source": [
        "def convert_image_to_array(image_dir):\n",
        "    try:\n",
        "        image = cv2.imread(image_dir)\n",
        "        if image is not None:\n",
        "            image = cv2.resize(image, DEFAULT_IMAGE_SIZE)   \n",
        "            return img_to_array(image)\n",
        "        else:\n",
        "            return np.array([])\n",
        "    except Exception as e:\n",
        "        print(f\"Error : {e}\")\n",
        "        return None\n"
      ],
      "execution_count": 25,
      "outputs": []
    },
    {
      "cell_type": "markdown",
      "metadata": {
        "id": "LIQ09v5oYeex"
      },
      "source": [
        "Here, we load the training data images by traversing through all the folders and converting all the images and labels into separate lists respectively.\n",
        "\n",
        "NOTE: We use a small portion of the entire dataset due to the computing limitations. Tweak N_IMAGES to include entire dataset."
      ]
    },
    {
      "cell_type": "code",
      "metadata": {
        "colab": {
          "base_uri": "https://localhost:8080/"
        },
        "id": "rfEwZ13SYtU2",
        "outputId": "401dc48d-dad7-4cfb-c12b-404b66ae4202"
      },
      "source": [
        "image_list, label_list =[], []\n",
        "\n",
        "try: \n",
        "  print(\"[INFO] Loading image......\")\n",
        "  plant_disease_folder_list = listdir(train_dir)\n",
        "\n",
        "  for plant_disease_folder in plant_disease_folder_list:\n",
        "    print(f\"[INFO] Processing {plant_disease_folder}......\")\n",
        "    plant_disease_image_list = listdir(f\"{train_dir}/{plant_disease_folder}/\")\n",
        "\n",
        "    for image in plant_disease_image_list[:N_IMAGES]:\n",
        "      image_directory = f\"{train_dir}/{plant_disease_folder}/{image}\"\n",
        "      if image_directory.endswith(\".jpg\")==True or image_directory.endswith(\".JPG\")==True:\n",
        "                image_list.append(convert_image_to_array(image_directory))\n",
        "                label_list.append(plant_disease_folder)\n",
        "\n",
        "    print(\"[INFO] Image loading completed\")  \n",
        "except Exception as e:\n",
        "    print(f\"Error : {e}\")\n",
        "\n",
        "# Transform the loaded training image data into numpy array\n",
        "np_image_list = np.array(image_list, dtype=np.float16) / 225.0\n",
        "print()\n",
        "\n",
        "# Check the number of images loaded for training\n",
        "image_len = len(image_list)\n",
        "print(f\"Total number of images: {image_len}\")\n"
      ],
      "execution_count": 26,
      "outputs": [
        {
          "output_type": "stream",
          "text": [
            "[INFO] Loading image......\n",
            "[INFO] Processing Tomato___Late_blight......\n",
            "[INFO] Image loading completed\n",
            "[INFO] Processing Tomato___Leaf_Mold......\n",
            "[INFO] Image loading completed\n",
            "[INFO] Processing Tomato___Tomato_mosaic_virus......\n",
            "[INFO] Image loading completed\n",
            "[INFO] Processing Tomato___Septoria_leaf_spot......\n",
            "[INFO] Image loading completed\n",
            "[INFO] Processing Tomato___Target_Spot......\n",
            "[INFO] Image loading completed\n",
            "[INFO] Processing Tomato___Spider_mites Two-spotted_spider_mite......\n",
            "[INFO] Image loading completed\n",
            "[INFO] Processing Tomato___healthy......\n",
            "[INFO] Image loading completed\n",
            "[INFO] Processing Tomato___Bacterial_spot......\n",
            "[INFO] Image loading completed\n",
            "[INFO] Processing Tomato___Early_blight......\n",
            "[INFO] Image loading completed\n",
            "[INFO] Processing Tomato___Tomato_Yellow_Leaf_Curl_Virus......\n",
            "[INFO] Image loading completed\n",
            "\n",
            "Total number of images: 500\n"
          ],
          "name": "stdout"
        }
      ]
    },
    {
      "cell_type": "markdown",
      "metadata": {
        "id": "I0UXk3C-lB9u"
      },
      "source": [
        "Examine the labels/classes in the training dataset."
      ]
    },
    {
      "cell_type": "code",
      "metadata": {
        "colab": {
          "base_uri": "https://localhost:8080/"
        },
        "id": "RSMdx6X2lGNu",
        "outputId": "2b582d60-7c09-4fa9-d722-d30df53665ae"
      },
      "source": [
        "label_binarizer = LabelBinarizer()\n",
        "image_labels = label_binarizer.fit_transform(label_list)\n",
        "\n",
        "pickle.dump(label_binarizer,open('plant_disease_label_transform.pkl', 'wb'))\n",
        "n_classes = len(label_binarizer.classes_)\n",
        "\n",
        "print(\"Total number of classes: \", n_classes)"
      ],
      "execution_count": 27,
      "outputs": [
        {
          "output_type": "stream",
          "text": [
            "Total number of classes:  10\n"
          ],
          "name": "stdout"
        }
      ]
    },
    {
      "cell_type": "markdown",
      "metadata": {
        "id": "km-YZCW1lOG1"
      },
      "source": [
        "#Augment and Split Dataset"
      ]
    },
    {
      "cell_type": "markdown",
      "metadata": {
        "id": "VeCctSIklUOM"
      },
      "source": [
        "Using ImageDataGenerator to augment data by performing various operations on the training images."
      ]
    },
    {
      "cell_type": "code",
      "metadata": {
        "id": "kkZWxu4_le2m"
      },
      "source": [
        "augment = ImageDataGenerator(rotation_range=25, width_shift_range=0.1,\n",
        "                             height_shift_range=0.1, shear_range=0.2, \n",
        "                             zoom_range=0.2, horizontal_flip=True, \n",
        "                             fill_mode=\"nearest\")"
      ],
      "execution_count": 28,
      "outputs": []
    },
    {
      "cell_type": "markdown",
      "metadata": {
        "id": "kg3jU-KjnKCH"
      },
      "source": [
        "Splitting the data into training and test sets for validation purpose."
      ]
    },
    {
      "cell_type": "code",
      "metadata": {
        "colab": {
          "base_uri": "https://localhost:8080/"
        },
        "id": "ySYZcMvXnP73",
        "outputId": "4141f845-34a7-4398-f071-bf49aa56e62c"
      },
      "source": [
        "print(\"[INFO] Splitting data to train and test...\")\n",
        "x_train, x_test, y_train, y_test = train_test_split(np_image_list, image_labels, test_size=0.2, random_state = 42) "
      ],
      "execution_count": 30,
      "outputs": [
        {
          "output_type": "stream",
          "text": [
            "[INFO] Splitting data to train and test...\n"
          ],
          "name": "stdout"
        }
      ]
    },
    {
      "cell_type": "markdown",
      "metadata": {
        "id": "y8KZoJMToYKu"
      },
      "source": [
        "# Build Model"
      ]
    },
    {
      "cell_type": "markdown",
      "metadata": {
        "id": "3dElm6rdpGBH"
      },
      "source": [
        "Defining the hyperparameters of the plant disease classification model."
      ]
    },
    {
      "cell_type": "code",
      "metadata": {
        "id": "3y-2V2_toX4e"
      },
      "source": [
        "EPOCHS = 30\n",
        "STEPS = 100\n",
        "LR = 1e-3\n",
        "BATCH_SIZE = 32\n",
        "WIDTH = 256\n",
        "HEIGHT = 256\n",
        "DEPTH = 3"
      ],
      "execution_count": 31,
      "outputs": []
    },
    {
      "cell_type": "markdown",
      "metadata": {
        "id": "tF0nOhybqkSA"
      },
      "source": [
        "Creating a sequential model and adding Convolutional, Normalization, Pooling, Dropout and Activation layers at the appropriate positions."
      ]
    },
    {
      "cell_type": "code",
      "metadata": {
        "colab": {
          "base_uri": "https://localhost:8080/"
        },
        "id": "k1H6PAGXqkwg",
        "outputId": "86fcbfe7-f43a-44db-d3af-3744d1eb82d1"
      },
      "source": [
        "model = Sequential()\n",
        "inputShape = (HEIGHT, WIDTH, DEPTH)\n",
        "chanDim = -1\n",
        "\n",
        "if K.image_data_format() == \"channels_first\":\n",
        "    inputShape = (DEPTH, HEIGHT, WIDTH)\n",
        "    chanDim = 1\n",
        "\n",
        "model.add(Conv2D(32, (3, 3), padding=\"same\",input_shape=inputShape))\n",
        "model.add(Activation(\"relu\"))\n",
        "model.add(BatchNormalization(axis=chanDim))\n",
        "model.add(MaxPooling2D(pool_size=(3, 3)))\n",
        "model.add(Dropout(0.25))\n",
        "model.add(Conv2D(64, (2, 2), padding=\"same\"))\n",
        "model.add(Activation(\"relu\"))\n",
        "model.add(BatchNormalization(axis=chanDim))\n",
        "model.add(Conv2D(64, (2, 2), padding=\"same\"))\n",
        "model.add(Activation(\"relu\"))\n",
        "model.add(BatchNormalization(axis=chanDim))\n",
        "model.add(MaxPooling2D(pool_size=(2, 2)))\n",
        "model.add(Dropout(0.25))\n",
        "model.add(Conv2D(128, (2, 2), padding=\"same\"))\n",
        "model.add(Activation(\"relu\"))\n",
        "model.add(BatchNormalization(axis=chanDim))\n",
        "model.add(Conv2D(128, (2, 2), padding=\"same\"))\n",
        "model.add(Activation(\"relu\"))\n",
        "model.add(BatchNormalization(axis=chanDim))\n",
        "model.add(MaxPooling2D(pool_size=(2, 2)))\n",
        "model.add(Dropout(0.25))\n",
        "model.add(Flatten())\n",
        "model.add(Dense(1024))\n",
        "model.add(Activation(\"relu\"))\n",
        "model.add(BatchNormalization())\n",
        "model.add(Dropout(0.5))\n",
        "model.add(Dense(n_classes))\n",
        "model.add(Activation(\"softmax\"))\n",
        "\n",
        "model.summary()"
      ],
      "execution_count": 38,
      "outputs": [
        {
          "output_type": "stream",
          "text": [
            "Model: \"sequential_1\"\n",
            "_________________________________________________________________\n",
            "Layer (type)                 Output Shape              Param #   \n",
            "=================================================================\n",
            "conv2d_5 (Conv2D)            (None, 256, 256, 32)      896       \n",
            "_________________________________________________________________\n",
            "activation_7 (Activation)    (None, 256, 256, 32)      0         \n",
            "_________________________________________________________________\n",
            "batch_normalization_6 (Batch (None, 256, 256, 32)      128       \n",
            "_________________________________________________________________\n",
            "max_pooling2d_3 (MaxPooling2 (None, 85, 85, 32)        0         \n",
            "_________________________________________________________________\n",
            "dropout_4 (Dropout)          (None, 85, 85, 32)        0         \n",
            "_________________________________________________________________\n",
            "conv2d_6 (Conv2D)            (None, 85, 85, 64)        8256      \n",
            "_________________________________________________________________\n",
            "activation_8 (Activation)    (None, 85, 85, 64)        0         \n",
            "_________________________________________________________________\n",
            "batch_normalization_7 (Batch (None, 85, 85, 64)        256       \n",
            "_________________________________________________________________\n",
            "conv2d_7 (Conv2D)            (None, 85, 85, 64)        16448     \n",
            "_________________________________________________________________\n",
            "activation_9 (Activation)    (None, 85, 85, 64)        0         \n",
            "_________________________________________________________________\n",
            "batch_normalization_8 (Batch (None, 85, 85, 64)        256       \n",
            "_________________________________________________________________\n",
            "max_pooling2d_4 (MaxPooling2 (None, 42, 42, 64)        0         \n",
            "_________________________________________________________________\n",
            "dropout_5 (Dropout)          (None, 42, 42, 64)        0         \n",
            "_________________________________________________________________\n",
            "conv2d_8 (Conv2D)            (None, 42, 42, 128)       32896     \n",
            "_________________________________________________________________\n",
            "activation_10 (Activation)   (None, 42, 42, 128)       0         \n",
            "_________________________________________________________________\n",
            "batch_normalization_9 (Batch (None, 42, 42, 128)       512       \n",
            "_________________________________________________________________\n",
            "conv2d_9 (Conv2D)            (None, 42, 42, 128)       65664     \n",
            "_________________________________________________________________\n",
            "activation_11 (Activation)   (None, 42, 42, 128)       0         \n",
            "_________________________________________________________________\n",
            "batch_normalization_10 (Batc (None, 42, 42, 128)       512       \n",
            "_________________________________________________________________\n",
            "max_pooling2d_5 (MaxPooling2 (None, 21, 21, 128)       0         \n",
            "_________________________________________________________________\n",
            "dropout_6 (Dropout)          (None, 21, 21, 128)       0         \n",
            "_________________________________________________________________\n",
            "flatten_1 (Flatten)          (None, 56448)             0         \n",
            "_________________________________________________________________\n",
            "dense_2 (Dense)              (None, 1024)              57803776  \n",
            "_________________________________________________________________\n",
            "activation_12 (Activation)   (None, 1024)              0         \n",
            "_________________________________________________________________\n",
            "batch_normalization_11 (Batc (None, 1024)              4096      \n",
            "_________________________________________________________________\n",
            "dropout_7 (Dropout)          (None, 1024)              0         \n",
            "_________________________________________________________________\n",
            "dense_3 (Dense)              (None, 10)                10250     \n",
            "_________________________________________________________________\n",
            "activation_13 (Activation)   (None, 10)                0         \n",
            "=================================================================\n",
            "Total params: 57,943,946\n",
            "Trainable params: 57,941,066\n",
            "Non-trainable params: 2,880\n",
            "_________________________________________________________________\n"
          ],
          "name": "stdout"
        }
      ]
    },
    {
      "cell_type": "markdown",
      "metadata": {
        "id": "ASH_putsupPy"
      },
      "source": [
        "# Train Model\n"
      ]
    },
    {
      "cell_type": "code",
      "metadata": {
        "id": "f0sklbQt6o-s",
        "colab": {
          "base_uri": "https://localhost:8080/"
        },
        "outputId": "109c2b04-99f1-44fd-9c9b-0af3619c2cbc"
      },
      "source": [
        "from google.colab import drive\n",
        "drive.mount('/content/drive')"
      ],
      "execution_count": 33,
      "outputs": [
        {
          "output_type": "stream",
          "text": [
            "Mounted at /content/drive\n"
          ],
          "name": "stdout"
        }
      ]
    },
    {
      "cell_type": "markdown",
      "metadata": {
        "id": "B6pJZ19ouslK"
      },
      "source": [
        "We initialize Adam optimizer with learning rate and decay parameters.\n",
        "\n",
        "Also, we choose the type of loss and metrics for the model and compile it for training"
      ]
    },
    {
      "cell_type": "code",
      "metadata": {
        "colab": {
          "base_uri": "https://localhost:8080/"
        },
        "id": "GzUVsIQBu0kx",
        "outputId": "7ca4c7ba-538d-45ea-9d1d-f387681f0276"
      },
      "source": [
        "# Initialize optimizer\n",
        "opt = Adam(lr=LR, decay=LR / EPOCHS)\n",
        "\n",
        "# Compile model\n",
        "model.compile(loss=\"binary_crossentropy\", optimizer=opt, metrics=[\"accuracy\"])\n",
        "\n",
        "# Train model\n",
        "print(\"[INFO] Training network...\")\n",
        "history = Model.fit_generator(augment.flow(x_train, y_train, batch_size=BATCH_SIZE),\n",
        "                              validation_data=(x_test, y_test),\n",
        "                              steps_per_epoch=len(x_train) // BATCH_SIZE,\n",
        "                              epochs=EPOCHS, \n",
        "                              verbose=1)"
      ],
      "execution_count": 34,
      "outputs": [
        {
          "output_type": "stream",
          "text": [
            "[INFO] Training network...\n",
            "WARNING:tensorflow:From <ipython-input-34-6d88faf22259>:13: Model.fit_generator (from tensorflow.python.keras.engine.training) is deprecated and will be removed in a future version.\n",
            "Instructions for updating:\n",
            "Please use Model.fit, which supports generators.\n",
            "Epoch 1/30\n",
            "12/12 [==============================] - 75s 6s/step - loss: 0.4142 - accuracy: 0.2690 - val_loss: 0.3339 - val_accuracy: 0.2400\n",
            "Epoch 2/30\n",
            "12/12 [==============================] - 74s 6s/step - loss: 0.2197 - accuracy: 0.5353 - val_loss: 0.3712 - val_accuracy: 0.1600\n",
            "Epoch 3/30\n",
            "12/12 [==============================] - 75s 6s/step - loss: 0.1928 - accuracy: 0.5870 - val_loss: 0.4905 - val_accuracy: 0.1200\n",
            "Epoch 4/30\n",
            "12/12 [==============================] - 75s 6s/step - loss: 0.1887 - accuracy: 0.6087 - val_loss: 0.7881 - val_accuracy: 0.1200\n",
            "Epoch 5/30\n",
            "12/12 [==============================] - 74s 6s/step - loss: 0.1828 - accuracy: 0.6087 - val_loss: 0.9194 - val_accuracy: 0.1200\n",
            "Epoch 6/30\n",
            "12/12 [==============================] - 76s 6s/step - loss: 0.1935 - accuracy: 0.6060 - val_loss: 0.5713 - val_accuracy: 0.1100\n",
            "Epoch 7/30\n",
            "12/12 [==============================] - 74s 6s/step - loss: 0.1613 - accuracy: 0.6630 - val_loss: 1.0738 - val_accuracy: 0.1200\n",
            "Epoch 8/30\n",
            "12/12 [==============================] - 73s 6s/step - loss: 0.1801 - accuracy: 0.6467 - val_loss: 1.6649 - val_accuracy: 0.1200\n",
            "Epoch 9/30\n",
            "12/12 [==============================] - 74s 6s/step - loss: 0.1672 - accuracy: 0.6739 - val_loss: 1.2486 - val_accuracy: 0.1200\n",
            "Epoch 10/30\n",
            "12/12 [==============================] - 74s 6s/step - loss: 0.1406 - accuracy: 0.7120 - val_loss: 2.1164 - val_accuracy: 0.1200\n",
            "Epoch 11/30\n",
            "12/12 [==============================] - 77s 6s/step - loss: 0.1447 - accuracy: 0.7109 - val_loss: 1.3070 - val_accuracy: 0.1200\n",
            "Epoch 12/30\n",
            "12/12 [==============================] - 74s 6s/step - loss: 0.1480 - accuracy: 0.7065 - val_loss: 1.7784 - val_accuracy: 0.1100\n",
            "Epoch 13/30\n",
            "12/12 [==============================] - 77s 6s/step - loss: 0.1748 - accuracy: 0.6495 - val_loss: 2.2103 - val_accuracy: 0.1100\n",
            "Epoch 14/30\n",
            "12/12 [==============================] - 77s 6s/step - loss: 0.1480 - accuracy: 0.7337 - val_loss: 1.2060 - val_accuracy: 0.1100\n",
            "Epoch 15/30\n",
            "12/12 [==============================] - 77s 6s/step - loss: 0.1323 - accuracy: 0.7446 - val_loss: 0.8339 - val_accuracy: 0.1900\n",
            "Epoch 16/30\n",
            "12/12 [==============================] - 74s 6s/step - loss: 0.1468 - accuracy: 0.7201 - val_loss: 0.8122 - val_accuracy: 0.2100\n",
            "Epoch 17/30\n",
            "12/12 [==============================] - 74s 6s/step - loss: 0.1320 - accuracy: 0.7391 - val_loss: 1.5523 - val_accuracy: 0.1500\n",
            "Epoch 18/30\n",
            "12/12 [==============================] - 74s 6s/step - loss: 0.1261 - accuracy: 0.7446 - val_loss: 1.3134 - val_accuracy: 0.1800\n",
            "Epoch 19/30\n",
            "12/12 [==============================] - 77s 6s/step - loss: 0.1261 - accuracy: 0.7500 - val_loss: 0.9701 - val_accuracy: 0.2200\n",
            "Epoch 20/30\n",
            "12/12 [==============================] - 74s 6s/step - loss: 0.1232 - accuracy: 0.7826 - val_loss: 1.4043 - val_accuracy: 0.1800\n",
            "Epoch 21/30\n",
            "12/12 [==============================] - 76s 6s/step - loss: 0.1232 - accuracy: 0.7690 - val_loss: 1.2048 - val_accuracy: 0.1900\n",
            "Epoch 22/30\n",
            "12/12 [==============================] - 74s 6s/step - loss: 0.1136 - accuracy: 0.7826 - val_loss: 1.0855 - val_accuracy: 0.2500\n",
            "Epoch 23/30\n",
            "12/12 [==============================] - 73s 6s/step - loss: 0.0999 - accuracy: 0.7853 - val_loss: 1.2849 - val_accuracy: 0.2200\n",
            "Epoch 24/30\n",
            "12/12 [==============================] - 74s 6s/step - loss: 0.0944 - accuracy: 0.8152 - val_loss: 1.2979 - val_accuracy: 0.2200\n",
            "Epoch 25/30\n",
            "12/12 [==============================] - 74s 6s/step - loss: 0.0842 - accuracy: 0.8451 - val_loss: 2.0460 - val_accuracy: 0.1200\n",
            "Epoch 26/30\n",
            "12/12 [==============================] - 74s 6s/step - loss: 0.0735 - accuracy: 0.8560 - val_loss: 2.1976 - val_accuracy: 0.1200\n",
            "Epoch 27/30\n",
            "12/12 [==============================] - 74s 6s/step - loss: 0.0696 - accuracy: 0.8668 - val_loss: 1.5442 - val_accuracy: 0.2100\n",
            "Epoch 28/30\n",
            "12/12 [==============================] - 79s 7s/step - loss: 0.0734 - accuracy: 0.8542 - val_loss: 1.8001 - val_accuracy: 0.1800\n",
            "Epoch 29/30\n",
            "12/12 [==============================] - 74s 6s/step - loss: 0.0614 - accuracy: 0.8641 - val_loss: 1.7759 - val_accuracy: 0.2000\n",
            "Epoch 30/30\n",
            "12/12 [==============================] - 77s 6s/step - loss: 0.0746 - accuracy: 0.8490 - val_loss: 1.4812 - val_accuracy: 0.2500\n"
          ],
          "name": "stdout"
        }
      ]
    },
    {
      "cell_type": "markdown",
      "metadata": {
        "id": "9u4H1KYPugvN"
      },
      "source": [
        "#Evaluate Model\n"
      ]
    },
    {
      "cell_type": "markdown",
      "metadata": {
        "id": "FqCRPpAL69IR"
      },
      "source": [
        "Comparing the accuracy and loss by plotting the graph for training and validation."
      ]
    },
    {
      "cell_type": "code",
      "metadata": {
        "colab": {
          "base_uri": "https://localhost:8080/",
          "height": 545
        },
        "id": "nfeLukPEugbl",
        "outputId": "3545e8be-fc5f-48f7-b8b9-4219ed1412ed"
      },
      "source": [
        "acc = history.history['accuracy']\n",
        "val_acc = history.history['val_accuracy']\n",
        "loss = history.history['loss']\n",
        "val_loss = history.history['val_loss']\n",
        "epochs = range(1, len(acc) + 1)\n",
        "\n",
        "# Train and validation accuracy\n",
        "plt.plot(epochs, acc, 'b', label='Training accurarcy')\n",
        "plt.plot(epochs, val_acc, 'r', label='Validation accurarcy')\n",
        "plt.title('Training and Validation accurarcy')\n",
        "plt.legend()\n",
        "\n",
        "plt.figure()\n",
        "\n",
        "# Train and validation loss\n",
        "plt.plot(epochs, loss, 'b', label='Training loss')\n",
        "plt.plot(epochs, val_loss, 'r', label='Validation loss')\n",
        "plt.title('Training and Validation loss')\n",
        "plt.legend()\n",
        "plt.show()"
      ],
      "execution_count": 35,
      "outputs": [
        {
          "output_type": "display_data",
          "data": {
            "image/png": "[encoded data removed]",
            "text/plain": [
              "<Figure size 432x288 with 1 Axes>"
            ]
          },
          "metadata": {
            "tags": [],
            "needs_background": "light"
          }
        },
        {
          "output_type": "display_data",
          "data": {
            "image/png": "[encoded data removed]",
            "text/plain": [
              "<Figure size 432x288 with 1 Axes>"
            ]
          },
          "metadata": {
            "tags": [],
            "needs_background": "light"
          }
        }
      ]
    },
    {
      "cell_type": "markdown",
      "metadata": {
        "id": "qjbOX-917kUh"
      },
      "source": [
        "Evaluating model accuracy by using the evaluate method"
      ]
    },
    {
      "cell_type": "code",
      "metadata": {
        "colab": {
          "base_uri": "https://localhost:8080/"
        },
        "id": "RaEuzFax79eE",
        "outputId": "cbfac4d0-2b3b-491f-b9e7-a57e67308e9e"
      },
      "source": [
        "print(\"[INFO] Calculating model accuracy\")\n",
        "scores = model.evaluate(x_test, y_test)\n",
        "print(f\"Test Accuracy: {scores[1]*100}\")"
      ],
      "execution_count": 37,
      "outputs": [
        {
          "output_type": "stream",
          "text": [
            "[INFO] Calculating model accuracy\n",
            "4/4 [==============================] - 3s 781ms/step - loss: 1.4812 - accuracy: 0.2500\n",
            "Test Accuracy: 25.0\n"
          ],
          "name": "stdout"
        }
      ]
    }
  ]
}